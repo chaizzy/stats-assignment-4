{
 "cells": [
  {
   "cell_type": "code",
   "execution_count": 1,
   "id": "24239a01-61e7-48a4-ba17-2f5378471253",
   "metadata": {},
   "outputs": [],
   "source": [
    "# ANS 1 :\n",
    "# \"probablity desity function\"\n",
    "# it describes relative probablity of continous random varaible to take on a given value\n",
    "# it used to calculate the probality of a given range of a continous random variable\n",
    "# example : height of students\n",
    "\n",
    "# \"probablity mass function\"\n",
    "#  it describes relative probablity of discrete random varaible to take on a given value\n",
    "#  to display distribution of discrete random variable we use pmf\n",
    "#  example : rolling a dice"
   ]
  },
  {
   "cell_type": "code",
   "execution_count": 3,
   "id": "e2ab6d0f-f94a-4ec2-9e5e-df48ceed73bc",
   "metadata": {},
   "outputs": [],
   "source": [
    "# ANS 2 :\n",
    "# A cumulative density function is a mathematical function that describes the probablity that a random variable\n",
    "# on a value lessthan or equal to a certain point .\n",
    "# cdf is a sum of the probablities of all the values less than or equal to the given value\n",
    "# It is used to get the probablity in a given range of values "
   ]
  },
  {
   "cell_type": "code",
   "execution_count": 4,
   "id": "771bdf32-37d2-418b-8af0-9c9be341f615",
   "metadata": {},
   "outputs": [],
   "source": [
    "# ANS 3:\n",
    "# there are many situations where normal distributions can be used as model like:\n",
    "# height of the class\n",
    "# weight of the class\n",
    "# marks of the students\n",
    "\n",
    "# parameters \n",
    "# mean gives the centre of the distribution \n",
    "# standard distribution gives the spread of the distribution"
   ]
  },
  {
   "cell_type": "code",
   "execution_count": 6,
   "id": "9bbf2860-4557-44f1-a8ce-8eee7501643c",
   "metadata": {},
   "outputs": [],
   "source": [
    "# ANS 4 :\n",
    "# importance of normal distribution \n",
    "# we use this distribution for calculating probablity of a given range\n",
    "# we use this distribution to find different infrences or statistical conclusions\n",
    "\n",
    "# real life examples\n",
    "# height of the class\n",
    "# weight of the class\n",
    "# marks of the students"
   ]
  },
  {
   "cell_type": "code",
   "execution_count": 7,
   "id": "0528f08f-ce66-427a-8c28-c0645be7172d",
   "metadata": {},
   "outputs": [],
   "source": [
    "# ANS 5 :\n",
    "# \"Bernaulli distribution\"\n",
    "# it is a model for the set possible outcomes of any single trial experiment that asks yes - no question\n",
    "#  example : tossing a coin , person will pass or fail\n",
    "\n",
    "# it is different from binomial distribution because , binomial is for n trials or experiments\n",
    "# example : tossing a coin 10 times"
   ]
  },
  {
   "cell_type": "code",
   "execution_count": 10,
   "id": "5abb3e68-b7a5-4e3d-bccb-1924cac91a52",
   "metadata": {},
   "outputs": [
    {
     "data": {
      "text/plain": [
       "1.0"
      ]
     },
     "execution_count": 10,
     "metadata": {},
     "output_type": "execute_result"
    }
   ],
   "source": [
    "# ANS 6 :\n",
    "# we use z-score formula \n",
    "# z-score = (specific point of random variable - mean ) / standard deviation\n",
    "z_score = (60-50)/10\n",
    "z_score"
   ]
  },
  {
   "cell_type": "code",
   "execution_count": 12,
   "id": "edcada20-196d-42bc-a3b9-bab9479ff363",
   "metadata": {},
   "outputs": [],
   "source": [
    "# z_score is 1\n",
    "# we will use z -table to find the area under curve\n",
    "# according to z-table , area under curve is 1 - 0.84134 = 0.1587\n",
    "# ans is 15.87 % probablity"
   ]
  },
  {
   "cell_type": "code",
   "execution_count": 13,
   "id": "06683c5a-bf6a-4022-98a1-258beae77c35",
   "metadata": {},
   "outputs": [],
   "source": [
    "# ANS 7 :\n",
    "# uniform distribution\n",
    "# it is distribution where probablity of any value within a bound is equally likely\n",
    "# the bounds are defined by the parameter a and b\n",
    "# example : rolling a dice , where all possible outcomes are equally likely "
   ]
  },
  {
   "cell_type": "code",
   "execution_count": 14,
   "id": "03bcd533-70d8-42a6-b292-9c1a37776729",
   "metadata": {},
   "outputs": [],
   "source": [
    "# ANS 8 :\n",
    "# z-score \n",
    "# z-score tells how much standard deviation is away from the mean of specific random variable\n",
    "# z-score helps to calculate the probablity of a specific point in the distribution"
   ]
  },
  {
   "cell_type": "code",
   "execution_count": 15,
   "id": "12bde5a7-1650-42dd-bc68-5d6b116ddbc1",
   "metadata": {},
   "outputs": [],
   "source": [
    "# ANS 9 :\n",
    "# The central limit theorem says that sampling distribution of the mean will always be normally distributed,\n",
    "# as long as the sample size is large enough .\n",
    "# regardless of whether the population has a normal , poisson , binomial , or any other distribution , the sampling\n",
    "# distribution the sampling distribution the sampling distribution of the mean will be normal"
   ]
  },
  {
   "cell_type": "code",
   "execution_count": 16,
   "id": "c5a6c6e6-dee9-475c-afef-21d49ef52f59",
   "metadata": {},
   "outputs": [],
   "source": [
    "# ANS 10 :\n",
    "# Assumptions \n",
    "#  1.Independence: The random variables should be independent of each other\n",
    "#  2. Identically distributed: The random variables should be identically distributed\n"
   ]
  },
  {
   "cell_type": "code",
   "execution_count": null,
   "id": "94a98466-2133-4af9-825c-fa46d657136b",
   "metadata": {},
   "outputs": [],
   "source": []
  }
 ],
 "metadata": {
  "kernelspec": {
   "display_name": "Python 3 (ipykernel)",
   "language": "python",
   "name": "python3"
  },
  "language_info": {
   "codemirror_mode": {
    "name": "ipython",
    "version": 3
   },
   "file_extension": ".py",
   "mimetype": "text/x-python",
   "name": "python",
   "nbconvert_exporter": "python",
   "pygments_lexer": "ipython3",
   "version": "3.10.8"
  }
 },
 "nbformat": 4,
 "nbformat_minor": 5
}
